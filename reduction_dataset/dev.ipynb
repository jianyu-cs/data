{
 "cells": [
  {
   "cell_type": "code",
   "execution_count": 1,
   "id": "edf40f6d",
   "metadata": {},
   "outputs": [],
   "source": [
    "from datasets import load_dataset"
   ]
  },
  {
   "cell_type": "markdown",
   "id": "a67242ff",
   "metadata": {},
   "source": [
    "# construct the sst-2 ICL examples"
   ]
  },
  {
   "cell_type": "code",
   "execution_count": 125,
   "id": "e1bbd177",
   "metadata": {},
   "outputs": [
    {
     "name": "stderr",
     "output_type": "stream",
     "text": [
      "Found cached dataset json (/home/jianyu/.cache/huggingface/datasets/SetFit___json/SetFit--subj-693a635c625bebac/0.0.0/0f7e3662623656454fcd2b650f34e886a7db4b9104504885bd462096cc7a9f51)\n"
     ]
    }
   ],
   "source": [
    "agnews_train = load_dataset(\"ag_news\", split=\"train\")"
   ]
  },
  {
   "cell_type": "code",
   "execution_count": 127,
   "id": "1161049c",
   "metadata": {},
   "outputs": [],
   "source": [
    "subj_train_subj = []\n",
    "subj_train_obj = []"
   ]
  },
  {
   "cell_type": "code",
   "execution_count": 128,
   "id": "4277f27b",
   "metadata": {},
   "outputs": [
    {
     "data": {
      "text/plain": [
       "{'text': \"the tucks have a secret , they 're immortal . they\",\n",
       " 'label': 0,\n",
       " 'label_text': 'objective'}"
      ]
     },
     "execution_count": 128,
     "metadata": {},
     "output_type": "execute_result"
    }
   ],
   "source": [
    "subj_train[0]"
   ]
  },
  {
   "cell_type": "code",
   "execution_count": 130,
   "id": "579f2c9c",
   "metadata": {},
   "outputs": [],
   "source": [
    "for snippet in subj_train:\n",
    "    if snippet['label'] == 0:\n",
    "        subj_train_obj.append(snippet[\"text\"])\n",
    "    else:\n",
    "        subj_train_subj.append(snippet[\"text\"])"
   ]
  },
  {
   "cell_type": "code",
   "execution_count": 164,
   "id": "40011a2c",
   "metadata": {},
   "outputs": [],
   "source": [
    "# selected_great_example\n",
    "import random\n",
    "obj_sample = random.sample(subj_train_obj, 1)[0]\n",
    "subj_sample = random.sample(subj_train_subj, 1)[0]"
   ]
  },
  {
   "cell_type": "code",
   "execution_count": 165,
   "id": "8dfd1971",
   "metadata": {},
   "outputs": [
    {
     "data": {
      "text/plain": [
       "'the water game is a teen action drama following a group of graduating high school students as they embark on playing a spy vs . spy type game three weeks prior to graduation .'"
      ]
     },
     "execution_count": 165,
     "metadata": {},
     "output_type": "execute_result"
    }
   ],
   "source": [
    "obj_sample"
   ]
  },
  {
   "cell_type": "code",
   "execution_count": 166,
   "id": "1956e652",
   "metadata": {},
   "outputs": [],
   "source": [
    "prompt = f\"Sentence: {subj_sample}\\nViewpoint: subjective\\n\\nReview: {obj_sample}\\nViewpoint: objective\\n\\nSentence: {{sentence_1}}\\nViewpoint:\""
   ]
  },
  {
   "cell_type": "code",
   "execution_count": 167,
   "id": "be4e1387",
   "metadata": {},
   "outputs": [
    {
     "data": {
      "text/plain": [
       "'Sentence: the lightest , most breezy movie steven spielberg has made in more than a decade . and the positive change in tone here seems to have recharged him .\\nViewpoint: subjective\\n\\nReview: the water game is a teen action drama following a group of graduating high school students as they embark on playing a spy vs . spy type game three weeks prior to graduation .\\nViewpoint: objective\\n\\nSentence: {sentence_1}\\nViewpoint:'"
      ]
     },
     "execution_count": 167,
     "metadata": {},
     "output_type": "execute_result"
    }
   ],
   "source": [
    "prompt"
   ]
  },
  {
   "cell_type": "markdown",
   "id": "73aee8d3",
   "metadata": {},
   "source": [
    "# Dataset"
   ]
  },
  {
   "cell_type": "code",
   "execution_count": 37,
   "id": "b9a1aed6",
   "metadata": {},
   "outputs": [
    {
     "name": "stderr",
     "output_type": "stream",
     "text": [
      "Found cached dataset json (/home/jianyu/.cache/huggingface/datasets/SetFit___json/SetFit--subj-693a635c625bebac/0.0.0/0f7e3662623656454fcd2b650f34e886a7db4b9104504885bd462096cc7a9f51)\n"
     ]
    }
   ],
   "source": [
    "subj_dev = load_dataset(\"SetFit/subj\", split=\"train\")"
   ]
  },
  {
   "cell_type": "code",
   "execution_count": 62,
   "id": "af5740f7",
   "metadata": {},
   "outputs": [
    {
     "data": {
      "text/plain": [
       "{'text': 'often shocking but ultimately worthwhile exploration of motherhood and desperate mothers .',\n",
       " 'label': 1,\n",
       " 'label_text': 'subjective'}"
      ]
     },
     "execution_count": 62,
     "metadata": {},
     "output_type": "execute_result"
    }
   ],
   "source": [
    "subj_dev[-10]"
   ]
  },
  {
   "cell_type": "code",
   "execution_count": 45,
   "id": "fa5e115f",
   "metadata": {},
   "outputs": [],
   "source": [
    "subj = []\n",
    "obj = []"
   ]
  },
  {
   "cell_type": "code",
   "execution_count": 46,
   "id": "ddd37328",
   "metadata": {},
   "outputs": [],
   "source": [
    "for data in subj_dev:\n",
    "    if data['label'] == 1:\n",
    "        subj.append(data['text'])\n",
    "    else:\n",
    "        obj.append(data['text'])"
   ]
  },
  {
   "cell_type": "code",
   "execution_count": 63,
   "id": "e2887e66",
   "metadata": {},
   "outputs": [],
   "source": [
    "subj_test = './subj/test_100.tsv'"
   ]
  },
  {
   "cell_type": "code",
   "execution_count": 64,
   "id": "13b5077b",
   "metadata": {},
   "outputs": [],
   "source": [
    "with open(subj_test, \"r\") as f:\n",
    "    ans = f.readlines()"
   ]
  },
  {
   "cell_type": "code",
   "execution_count": 99,
   "id": "cd5cc961",
   "metadata": {},
   "outputs": [],
   "source": [
    "dev = [ans[0]]"
   ]
  },
  {
   "cell_type": "code",
   "execution_count": 100,
   "id": "ed365279",
   "metadata": {},
   "outputs": [],
   "source": [
    "subj_dev = random.sample(subj, 100)"
   ]
  },
  {
   "cell_type": "code",
   "execution_count": 101,
   "id": "752c24bc",
   "metadata": {},
   "outputs": [],
   "source": [
    "obj_dev = random.sample(obj, 100)"
   ]
  },
  {
   "cell_type": "code",
   "execution_count": 102,
   "id": "d2ba1c4c",
   "metadata": {},
   "outputs": [],
   "source": [
    "for item in subj_dev:\n",
    "    dev.append(f\"{item}\\t0\\n\")"
   ]
  },
  {
   "cell_type": "code",
   "execution_count": 103,
   "id": "4fa3a902",
   "metadata": {},
   "outputs": [],
   "source": [
    "for item in obj_dev:\n",
    "    dev.append(f\"{item}\\t1\\n\")"
   ]
  },
  {
   "cell_type": "code",
   "execution_count": 108,
   "id": "f0e2b009",
   "metadata": {},
   "outputs": [],
   "source": [
    "with open(\"./subj/dev.tsv\", \"w\") as f:\n",
    "    for i in dev:\n",
    "        f.write(i)"
   ]
  },
  {
   "cell_type": "markdown",
   "id": "98aa34ad",
   "metadata": {},
   "source": [
    "# AG's News Dataset"
   ]
  },
  {
   "cell_type": "code",
   "execution_count": 150,
   "id": "77a51d69",
   "metadata": {},
   "outputs": [
    {
     "name": "stderr",
     "output_type": "stream",
     "text": [
      "Found cached dataset ag_news (/home/jianyu/.cache/huggingface/datasets/ag_news/default/0.0.0/bc2bcb40336ace1a0374767fc29bb0296cdaf8a6da7298436239c54d79180548)\n"
     ]
    }
   ],
   "source": [
    "agnews_dev = load_dataset(\"ag_news\", split=\"train\")"
   ]
  },
  {
   "cell_type": "code",
   "execution_count": 111,
   "id": "77a98c1b",
   "metadata": {},
   "outputs": [
    {
     "data": {
      "text/plain": [
       "{'text': 'Barack Obama Gets  #36;1.9 Million Book Deal (AP) AP - U.S. Sen.-elect Barack Obama, whose 1995 book jumped onto best seller lists after his keynote address to the Democratic National Convention, has landed a three-book deal worth  #36;1.9 million.',\n",
       " 'label': 0}"
      ]
     },
     "execution_count": 111,
     "metadata": {},
     "output_type": "execute_result"
    }
   ],
   "source": [
    "agnews_dev[-10]"
   ]
  },
  {
   "cell_type": "code",
   "execution_count": 112,
   "id": "690ba7a6",
   "metadata": {},
   "outputs": [],
   "source": [
    "world = []\n",
    "sports = []\n",
    "business = []\n",
    "tech = []"
   ]
  },
  {
   "cell_type": "code",
   "execution_count": 113,
   "id": "90aaab02",
   "metadata": {},
   "outputs": [],
   "source": [
    "for item in agnews_dev:\n",
    "    if item['label'] == 0:\n",
    "        world.append(item['text'])\n",
    "    elif item['label'] == 1:\n",
    "        sports.append(item['text'])\n",
    "    elif item['label'] == 2:\n",
    "        business.append(item['text'])\n",
    "    else:\n",
    "        tech.append(item['text'])"
   ]
  },
  {
   "cell_type": "code",
   "execution_count": 114,
   "id": "54ca65e5",
   "metadata": {},
   "outputs": [],
   "source": [
    "world = random.sample(world, 50)"
   ]
  },
  {
   "cell_type": "code",
   "execution_count": 115,
   "id": "7e56633a",
   "metadata": {},
   "outputs": [],
   "source": [
    "sports = random.sample(sports, 50)"
   ]
  },
  {
   "cell_type": "code",
   "execution_count": 116,
   "id": "e7f7d4cf",
   "metadata": {},
   "outputs": [],
   "source": [
    "business = random.sample(business, 50)"
   ]
  },
  {
   "cell_type": "code",
   "execution_count": 117,
   "id": "f9ef2a88",
   "metadata": {},
   "outputs": [],
   "source": [
    "tech = random.sample(tech, 50)"
   ]
  },
  {
   "cell_type": "code",
   "execution_count": 118,
   "id": "24d576b0",
   "metadata": {},
   "outputs": [
    {
     "data": {
      "text/plain": [
       "'sentence\\tlabel\\n'"
      ]
     },
     "execution_count": 118,
     "metadata": {},
     "output_type": "execute_result"
    }
   ],
   "source": [
    "dev[0]"
   ]
  },
  {
   "cell_type": "code",
   "execution_count": 119,
   "id": "f447a3b4",
   "metadata": {},
   "outputs": [],
   "source": [
    "agnews_dev = [dev[0]]"
   ]
  },
  {
   "cell_type": "code",
   "execution_count": 120,
   "id": "220fff2d",
   "metadata": {},
   "outputs": [],
   "source": [
    "for item in world:\n",
    "    agnews_dev.append(f\"{item}\\t0\\n\")"
   ]
  },
  {
   "cell_type": "code",
   "execution_count": 121,
   "id": "6757b15e",
   "metadata": {},
   "outputs": [],
   "source": [
    "for item in sports:\n",
    "    agnews_dev.append(f\"{item}\\t1\\n\")"
   ]
  },
  {
   "cell_type": "code",
   "execution_count": 122,
   "id": "29b93f47",
   "metadata": {},
   "outputs": [],
   "source": [
    "for item in business:\n",
    "    agnews_dev.append(f\"{item}\\t2\\n\")"
   ]
  },
  {
   "cell_type": "code",
   "execution_count": 123,
   "id": "07ccba05",
   "metadata": {},
   "outputs": [],
   "source": [
    "for item in tech:\n",
    "    agnews_dev.append(f\"{item}\\t3\\n\")"
   ]
  },
  {
   "cell_type": "code",
   "execution_count": 124,
   "id": "9f2d0bbc",
   "metadata": {},
   "outputs": [],
   "source": [
    "with open(\"./agnews/dev.tsv\", \"w\") as f:\n",
    "    for item in agnews_dev:\n",
    "        f.write(item)"
   ]
  },
  {
   "cell_type": "code",
   "execution_count": 143,
   "id": "c5d0ad38",
   "metadata": {},
   "outputs": [],
   "source": [
    "new_world = []\n",
    "new_sports = []\n",
    "new_business = []\n",
    "new_tech = []"
   ]
  },
  {
   "cell_type": "code",
   "execution_count": 144,
   "id": "cc9a341a",
   "metadata": {},
   "outputs": [],
   "source": [
    "whole_world = []\n",
    "whole_sports = []\n",
    "whole_business = []\n",
    "whole_tech = []"
   ]
  },
  {
   "cell_type": "code",
   "execution_count": 149,
   "id": "b62f7e17",
   "metadata": {},
   "outputs": [
    {
     "data": {
      "text/plain": [
       "'Security Firm Tribute to Ex-Gurkhas Killed by Baghdad Rockets The London-based security firm which employed four former Gurkhas killed in a rocket attack on their compound in Baghdad tonight paid tribute to them as brave and professional individuals.\\t0\\n'"
      ]
     },
     "execution_count": 149,
     "metadata": {},
     "output_type": "execute_result"
    }
   ],
   "source": [
    "agnews_dev[1]"
   ]
  },
  {
   "cell_type": "code",
   "execution_count": 151,
   "id": "61cc4dfb",
   "metadata": {},
   "outputs": [],
   "source": [
    "for item in agnews_dev:\n",
    "    if item['label'] == 0:\n",
    "        whole_world.append(item['text'])\n",
    "    elif item['label'] == 1:\n",
    "        whole_sports.append(item['text'])\n",
    "    elif item['label'] == 2:\n",
    "        whole_business.append(item['text'])\n",
    "    else:\n",
    "        whole_tech.append(item['text'])"
   ]
  },
  {
   "cell_type": "code",
   "execution_count": 152,
   "id": "b9dc190f",
   "metadata": {},
   "outputs": [],
   "source": [
    "for item in whole_world:\n",
    "    if item not in world:\n",
    "        new_world.append(item)\n",
    "        \n",
    "for item in whole_sports:    \n",
    "    if item not in sports:\n",
    "        new_sports.append(item)\n",
    "\n",
    "for item in whole_business:    \n",
    "    if item not in business:\n",
    "        new_business.append(item)\n",
    "        \n",
    "for item in whole_tech:    \n",
    "    if item not in tech:\n",
    "        new_tech.append(item)"
   ]
  },
  {
   "cell_type": "code",
   "execution_count": 161,
   "id": "8f18da32",
   "metadata": {},
   "outputs": [],
   "source": [
    "world_sample = random.sample(new_world, 1)[0]\n",
    "sports_sample = random.sample(new_sports, 1)[0]\n",
    "business_sample = random.sample(new_business, 1)[0]\n",
    "tech_sample = random.sample(new_tech, 1)[0]"
   ]
  },
  {
   "cell_type": "code",
   "execution_count": 162,
   "id": "e7b162f4",
   "metadata": {},
   "outputs": [],
   "source": [
    "prompt = f\"Article: {world_sample}\\nAnswer: world\\n\\nArticle: {sports_sample}\\nAnswer: sports\\n\\nArticle: {business_sample}\\nAnswer: business\\n\\nArticle: {tech_sample}\\nAnswer: tech\\n\\nArticle: {{sentence_1}}\\nAnswer:\""
   ]
  },
  {
   "cell_type": "code",
   "execution_count": 163,
   "id": "456d1eec",
   "metadata": {},
   "outputs": [
    {
     "data": {
      "text/plain": [
       "'Article: 30,000 More Sudanese Threaten to Cross to Chad -UN  GENEVA (Reuters) - Some 30,000 Sudanese, victims of fresh  attacks by Arab militia inside Darfur, have threatened to cross  into Chad, the U.N. refugee agency warned on Friday.\\nAnswer: world\\n\\nArticle: Arsenal get \\\\$300m Emirates boost LONDON - In two years, Arsenal will play their home matches in the Emirates stadium. That is what their new stadium at Ashburton Grove will be called after the Premiership champions yesterday agreed to the \\nAnswer: sports\\n\\nArticle: Maxim Joins Inventory Buildup Chorus Maxim (MXIM:Nasdaq - news - research) grew its first-quarter profit but said an inventory buildup hurt new bookings, a development bound to weigh on revenue in the quarter now underway.\\nAnswer: business\\n\\nArticle: Britain seeks wave power Denmark catches the most wind for power. Japan absorbs the most sun. Now Britain wants to rule the waves. Wave and tidal stream machines are the latest exploratory technology \\nAnswer: tech\\n\\nArticle: {sentence_1}\\nAnswer:'"
      ]
     },
     "execution_count": 163,
     "metadata": {},
     "output_type": "execute_result"
    }
   ],
   "source": [
    "prompt"
   ]
  },
  {
   "cell_type": "code",
   "execution_count": null,
   "id": "22ee3e1e",
   "metadata": {},
   "outputs": [],
   "source": []
  }
 ],
 "metadata": {
  "kernelspec": {
   "display_name": "Python 3 (ipykernel)",
   "language": "python",
   "name": "python3"
  },
  "language_info": {
   "codemirror_mode": {
    "name": "ipython",
    "version": 3
   },
   "file_extension": ".py",
   "mimetype": "text/x-python",
   "name": "python",
   "nbconvert_exporter": "python",
   "pygments_lexer": "ipython3",
   "version": "3.9.12"
  }
 },
 "nbformat": 4,
 "nbformat_minor": 5
}
