{
 "cells": [
  {
   "cell_type": "code",
   "execution_count": 1,
   "id": "edf40f6d",
   "metadata": {},
   "outputs": [],
   "source": [
    "from datasets import load_dataset"
   ]
  },
  {
   "cell_type": "markdown",
   "id": "a67242ff",
   "metadata": {},
   "source": [
    "# construct the SST-2 ICL examples"
   ]
  },
  {
   "cell_type": "code",
   "execution_count": 3,
   "id": "e1bbd177",
   "metadata": {},
   "outputs": [
    {
     "name": "stderr",
     "output_type": "stream",
     "text": [
      "Found cached dataset sst2 (/home/jianyu/.cache/huggingface/datasets/sst2/default/2.0.0/9896208a8d85db057ac50c72282bcb8fe755accc671a57dd8059d4e130961ed5)\n"
     ]
    }
   ],
   "source": [
    "sst2_train = load_dataset(\"sst2\", split=\"train\")"
   ]
  },
  {
   "cell_type": "code",
   "execution_count": 5,
   "id": "1161049c",
   "metadata": {},
   "outputs": [],
   "source": [
    "sst2_train_great = []\n",
    "sst2_train_terrible = []"
   ]
  },
  {
   "cell_type": "code",
   "execution_count": 6,
   "id": "4277f27b",
   "metadata": {},
   "outputs": [
    {
     "data": {
      "text/plain": [
       "{'idx': 0,\n",
       " 'sentence': 'hide new secretions from the parental units ',\n",
       " 'label': 0}"
      ]
     },
     "execution_count": 6,
     "metadata": {},
     "output_type": "execute_result"
    }
   ],
   "source": [
    "sst2_train[0]"
   ]
  },
  {
   "cell_type": "code",
   "execution_count": 7,
   "id": "579f2c9c",
   "metadata": {},
   "outputs": [],
   "source": [
    "for snippet in sst2_train:\n",
    "    if snippet['label'] == 1:\n",
    "        sst2_train_great.append(snippet[\"sentence\"])\n",
    "    else:\n",
    "        sst2_train_terrible.append(snippet[\"sentence\"])"
   ]
  },
  {
   "cell_type": "code",
   "execution_count": 30,
   "id": "40011a2c",
   "metadata": {},
   "outputs": [],
   "source": [
    "# selected_great_example\n",
    "import random\n",
    "great_sample = random.sample(sst2_train_great, 1)[0]\n",
    "terrible_sample = random.sample(sst2_train_terrible, 1)[0]"
   ]
  },
  {
   "cell_type": "code",
   "execution_count": 31,
   "id": "8dfd1971",
   "metadata": {},
   "outputs": [
    {
     "data": {
      "text/plain": [
       "'enough sweet and traditional romantic comedy to counter the crudity '"
      ]
     },
     "execution_count": 31,
     "metadata": {},
     "output_type": "execute_result"
    }
   ],
   "source": [
    "great_sample "
   ]
  },
  {
   "cell_type": "code",
   "execution_count": 32,
   "id": "1956e652",
   "metadata": {},
   "outputs": [],
   "source": [
    "prompt = f\"Review: {great_sample}\\nAnswer: positive\\n\\nReview: {terrible_sample}\\nAnswer: negative\\n\\nReview: {{sentence_1}}\\nAnswer:\""
   ]
  },
  {
   "cell_type": "code",
   "execution_count": 33,
   "id": "be4e1387",
   "metadata": {},
   "outputs": [
    {
     "data": {
      "text/plain": [
       "'Review: enough sweet and traditional romantic comedy to counter the crudity \\nAnswer: positive\\n\\nReview: 88 minutes of exaggerated action \\nAnswer: negative\\n\\nReview: {sentence_1}\\nAnswer:'"
      ]
     },
     "execution_count": 33,
     "metadata": {},
     "output_type": "execute_result"
    }
   ],
   "source": [
    "prompt"
   ]
  },
  {
   "cell_type": "markdown",
   "id": "73aee8d3",
   "metadata": {},
   "source": [
    "# Dataset"
   ]
  },
  {
   "cell_type": "code",
   "execution_count": 37,
   "id": "b9a1aed6",
   "metadata": {},
   "outputs": [
    {
     "name": "stderr",
     "output_type": "stream",
     "text": [
      "Found cached dataset json (/home/jianyu/.cache/huggingface/datasets/SetFit___json/SetFit--subj-693a635c625bebac/0.0.0/0f7e3662623656454fcd2b650f34e886a7db4b9104504885bd462096cc7a9f51)\n"
     ]
    }
   ],
   "source": [
    "subj_dev = load_dataset(\"SetFit/subj\", split=\"train\")"
   ]
  },
  {
   "cell_type": "code",
   "execution_count": 62,
   "id": "af5740f7",
   "metadata": {},
   "outputs": [
    {
     "data": {
      "text/plain": [
       "{'text': 'often shocking but ultimately worthwhile exploration of motherhood and desperate mothers .',\n",
       " 'label': 1,\n",
       " 'label_text': 'subjective'}"
      ]
     },
     "execution_count": 62,
     "metadata": {},
     "output_type": "execute_result"
    }
   ],
   "source": [
    "subj_dev[-10]"
   ]
  },
  {
   "cell_type": "code",
   "execution_count": 45,
   "id": "fa5e115f",
   "metadata": {},
   "outputs": [],
   "source": [
    "subj = []\n",
    "obj = []"
   ]
  },
  {
   "cell_type": "code",
   "execution_count": 46,
   "id": "ddd37328",
   "metadata": {},
   "outputs": [],
   "source": [
    "for data in subj_dev:\n",
    "    if data['label'] == 1:\n",
    "        subj.append(data['text'])\n",
    "    else:\n",
    "        obj.append(data['text'])"
   ]
  },
  {
   "cell_type": "code",
   "execution_count": 63,
   "id": "e2887e66",
   "metadata": {},
   "outputs": [],
   "source": [
    "subj_test = './subj/test_100.tsv'"
   ]
  },
  {
   "cell_type": "code",
   "execution_count": 64,
   "id": "13b5077b",
   "metadata": {},
   "outputs": [],
   "source": [
    "with open(subj_test, \"r\") as f:\n",
    "    ans = f.readlines()"
   ]
  },
  {
   "cell_type": "code",
   "execution_count": 99,
   "id": "cd5cc961",
   "metadata": {},
   "outputs": [],
   "source": [
    "dev = [ans[0]]"
   ]
  },
  {
   "cell_type": "code",
   "execution_count": 100,
   "id": "ed365279",
   "metadata": {},
   "outputs": [],
   "source": [
    "subj_dev = random.sample(subj, 100)"
   ]
  },
  {
   "cell_type": "code",
   "execution_count": 101,
   "id": "752c24bc",
   "metadata": {},
   "outputs": [],
   "source": [
    "obj_dev = random.sample(obj, 100)"
   ]
  },
  {
   "cell_type": "code",
   "execution_count": 102,
   "id": "d2ba1c4c",
   "metadata": {},
   "outputs": [],
   "source": [
    "for item in subj_dev:\n",
    "    dev.append(f\"{item}\\t0\\n\")"
   ]
  },
  {
   "cell_type": "code",
   "execution_count": 103,
   "id": "4fa3a902",
   "metadata": {},
   "outputs": [],
   "source": [
    "for item in obj_dev:\n",
    "    dev.append(f\"{item}\\t1\\n\")"
   ]
  },
  {
   "cell_type": "code",
   "execution_count": 108,
   "id": "f0e2b009",
   "metadata": {},
   "outputs": [],
   "source": [
    "with open(\"./subj/dev.tsv\", \"w\") as f:\n",
    "    for i in dev:\n",
    "        f.write(i)"
   ]
  },
  {
   "cell_type": "markdown",
   "id": "98aa34ad",
   "metadata": {},
   "source": [
    "# AG's News Dataset"
   ]
  },
  {
   "cell_type": "code",
   "execution_count": 109,
   "id": "77a51d69",
   "metadata": {},
   "outputs": [
    {
     "data": {
      "application/vnd.jupyter.widget-view+json": {
       "model_id": "fd59b95b515147ae95b67f4f8fbd1ce0",
       "version_major": 2,
       "version_minor": 0
      },
      "text/plain": [
       "Downloading builder script:   0%|          | 0.00/4.06k [00:00<?, ?B/s]"
      ]
     },
     "metadata": {},
     "output_type": "display_data"
    },
    {
     "data": {
      "application/vnd.jupyter.widget-view+json": {
       "model_id": "13da46180fb14864b234b029b19bac76",
       "version_major": 2,
       "version_minor": 0
      },
      "text/plain": [
       "Downloading metadata:   0%|          | 0.00/2.65k [00:00<?, ?B/s]"
      ]
     },
     "metadata": {},
     "output_type": "display_data"
    },
    {
     "data": {
      "application/vnd.jupyter.widget-view+json": {
       "model_id": "bff5210ce7bb4c499eec60c9884cfbc9",
       "version_major": 2,
       "version_minor": 0
      },
      "text/plain": [
       "Downloading readme:   0%|          | 0.00/7.95k [00:00<?, ?B/s]"
      ]
     },
     "metadata": {},
     "output_type": "display_data"
    },
    {
     "name": "stdout",
     "output_type": "stream",
     "text": [
      "Downloading and preparing dataset ag_news/default to /home/jianyu/.cache/huggingface/datasets/ag_news/default/0.0.0/bc2bcb40336ace1a0374767fc29bb0296cdaf8a6da7298436239c54d79180548...\n"
     ]
    },
    {
     "data": {
      "application/vnd.jupyter.widget-view+json": {
       "model_id": "df077bfd6c4645319eb6a5dc3738d304",
       "version_major": 2,
       "version_minor": 0
      },
      "text/plain": [
       "Downloading data:   0%|          | 0.00/11.0M [00:00<?, ?B/s]"
      ]
     },
     "metadata": {},
     "output_type": "display_data"
    },
    {
     "data": {
      "application/vnd.jupyter.widget-view+json": {
       "model_id": "5beec338fa2f41beba7cf9a0d347598b",
       "version_major": 2,
       "version_minor": 0
      },
      "text/plain": [
       "Downloading data:   0%|          | 0.00/751k [00:00<?, ?B/s]"
      ]
     },
     "metadata": {},
     "output_type": "display_data"
    },
    {
     "data": {
      "application/vnd.jupyter.widget-view+json": {
       "model_id": "b9fcb959a64942f8bf4bb66a70cef4d3",
       "version_major": 2,
       "version_minor": 0
      },
      "text/plain": [
       "Generating train split:   0%|          | 0/120000 [00:00<?, ? examples/s]"
      ]
     },
     "metadata": {},
     "output_type": "display_data"
    },
    {
     "data": {
      "application/vnd.jupyter.widget-view+json": {
       "model_id": "6ee9b501863a4debbd8e68dede8404d7",
       "version_major": 2,
       "version_minor": 0
      },
      "text/plain": [
       "Generating test split:   0%|          | 0/7600 [00:00<?, ? examples/s]"
      ]
     },
     "metadata": {},
     "output_type": "display_data"
    },
    {
     "name": "stdout",
     "output_type": "stream",
     "text": [
      "Dataset ag_news downloaded and prepared to /home/jianyu/.cache/huggingface/datasets/ag_news/default/0.0.0/bc2bcb40336ace1a0374767fc29bb0296cdaf8a6da7298436239c54d79180548. Subsequent calls will reuse this data.\n"
     ]
    }
   ],
   "source": [
    "agnews_dev = load_dataset(\"ag_news\", split=\"train\")"
   ]
  },
  {
   "cell_type": "code",
   "execution_count": 111,
   "id": "77a98c1b",
   "metadata": {},
   "outputs": [
    {
     "data": {
      "text/plain": [
       "{'text': 'Barack Obama Gets  #36;1.9 Million Book Deal (AP) AP - U.S. Sen.-elect Barack Obama, whose 1995 book jumped onto best seller lists after his keynote address to the Democratic National Convention, has landed a three-book deal worth  #36;1.9 million.',\n",
       " 'label': 0}"
      ]
     },
     "execution_count": 111,
     "metadata": {},
     "output_type": "execute_result"
    }
   ],
   "source": [
    "agnews_dev[-10]"
   ]
  },
  {
   "cell_type": "code",
   "execution_count": 112,
   "id": "690ba7a6",
   "metadata": {},
   "outputs": [],
   "source": [
    "world = []\n",
    "sports = []\n",
    "business = []\n",
    "tech = []"
   ]
  },
  {
   "cell_type": "code",
   "execution_count": 113,
   "id": "90aaab02",
   "metadata": {},
   "outputs": [],
   "source": [
    "for item in agnews_dev:\n",
    "    if item['label'] == 0:\n",
    "        world.append(item['text'])\n",
    "    elif item['label'] == 1:\n",
    "        sports.append(item['text'])\n",
    "    elif item['label'] == 2:\n",
    "        business.append(item['text'])\n",
    "    else:\n",
    "        tech.append(item['text'])"
   ]
  },
  {
   "cell_type": "code",
   "execution_count": 114,
   "id": "54ca65e5",
   "metadata": {},
   "outputs": [],
   "source": [
    "world = random.sample(world, 50)"
   ]
  },
  {
   "cell_type": "code",
   "execution_count": 115,
   "id": "7e56633a",
   "metadata": {},
   "outputs": [],
   "source": [
    "sports = random.sample(sports, 50)"
   ]
  },
  {
   "cell_type": "code",
   "execution_count": 116,
   "id": "e7f7d4cf",
   "metadata": {},
   "outputs": [],
   "source": [
    "business = random.sample(business, 50)"
   ]
  },
  {
   "cell_type": "code",
   "execution_count": 117,
   "id": "f9ef2a88",
   "metadata": {},
   "outputs": [],
   "source": [
    "tech = random.sample(tech, 50)"
   ]
  },
  {
   "cell_type": "code",
   "execution_count": 118,
   "id": "24d576b0",
   "metadata": {},
   "outputs": [
    {
     "data": {
      "text/plain": [
       "'sentence\\tlabel\\n'"
      ]
     },
     "execution_count": 118,
     "metadata": {},
     "output_type": "execute_result"
    }
   ],
   "source": [
    "dev[0]"
   ]
  },
  {
   "cell_type": "code",
   "execution_count": 119,
   "id": "f447a3b4",
   "metadata": {},
   "outputs": [],
   "source": [
    "agnews_dev = [dev[0]]"
   ]
  },
  {
   "cell_type": "code",
   "execution_count": 120,
   "id": "220fff2d",
   "metadata": {},
   "outputs": [],
   "source": [
    "for item in world:\n",
    "    agnews_dev.append(f\"{item}\\t0\\n\")"
   ]
  },
  {
   "cell_type": "code",
   "execution_count": 121,
   "id": "6757b15e",
   "metadata": {},
   "outputs": [],
   "source": [
    "for item in sports:\n",
    "    agnews_dev.append(f\"{item}\\t1\\n\")"
   ]
  },
  {
   "cell_type": "code",
   "execution_count": 122,
   "id": "29b93f47",
   "metadata": {},
   "outputs": [],
   "source": [
    "for item in business:\n",
    "    agnews_dev.append(f\"{item}\\t2\\n\")"
   ]
  },
  {
   "cell_type": "code",
   "execution_count": 123,
   "id": "07ccba05",
   "metadata": {},
   "outputs": [],
   "source": [
    "for item in tech:\n",
    "    agnews_dev.append(f\"{item}\\t3\\n\")"
   ]
  },
  {
   "cell_type": "code",
   "execution_count": 124,
   "id": "9f2d0bbc",
   "metadata": {},
   "outputs": [],
   "source": [
    "with open(\"./agnews/dev.tsv\", \"w\") as f:\n",
    "    for item in agnews_dev:\n",
    "        f.write(item)"
   ]
  },
  {
   "cell_type": "code",
   "execution_count": null,
   "id": "c5d0ad38",
   "metadata": {},
   "outputs": [],
   "source": []
  }
 ],
 "metadata": {
  "kernelspec": {
   "display_name": "Python 3 (ipykernel)",
   "language": "python",
   "name": "python3"
  },
  "language_info": {
   "codemirror_mode": {
    "name": "ipython",
    "version": 3
   },
   "file_extension": ".py",
   "mimetype": "text/x-python",
   "name": "python",
   "nbconvert_exporter": "python",
   "pygments_lexer": "ipython3",
   "version": "3.9.12"
  }
 },
 "nbformat": 4,
 "nbformat_minor": 5
}
